{
 "cells": [
  {
   "cell_type": "code",
   "execution_count": 316,
   "id": "e1271a4a",
   "metadata": {},
   "outputs": [],
   "source": [
    "import xmltodict, json\n",
    "import pandas_read_xml as pdx\n",
    "import pandas as pd\n",
    "import numpy as np\n",
    "from collections import OrderedDict\n",
    "import xml.etree.ElementTree as ET"
   ]
  },
  {
   "cell_type": "code",
   "execution_count": 215,
   "id": "5a799b3b",
   "metadata": {},
   "outputs": [],
   "source": [
    "# count number of dictionary having the same key in a list of dictionaries\n",
    "def count_key(list_of_dict, key):\n",
    "    return sum(1 for d in list_of_dict if key in d)"
   ]
  },
  {
   "cell_type": "code",
   "execution_count": 37,
   "id": "b855a246",
   "metadata": {},
   "outputs": [
    {
     "name": "stdout",
     "output_type": "stream",
     "text": [
      "{'@time': '99.00', 'edge': {'@id': 'E0', 'lane': [{'@id': 'E0_0', 'vehicle': [{'@id': 'car2', '@pos': '86.42', '@speed': '0.98'}, {'@id': 'car1', '@pos': '95.20', '@speed': '0.67'}]}, {'@id': 'E0_1'}, {'@id': 'E0_2'}]}}\n"
     ]
    },
    {
     "data": {
      "text/html": [
       "<div>\n",
       "<style scoped>\n",
       "    .dataframe tbody tr th:only-of-type {\n",
       "        vertical-align: middle;\n",
       "    }\n",
       "\n",
       "    .dataframe tbody tr th {\n",
       "        vertical-align: top;\n",
       "    }\n",
       "\n",
       "    .dataframe thead th {\n",
       "        text-align: right;\n",
       "    }\n",
       "</style>\n",
       "<table border=\"1\" class=\"dataframe\">\n",
       "  <thead>\n",
       "    <tr style=\"text-align: right;\">\n",
       "      <th></th>\n",
       "      <th>@time</th>\n",
       "      <th>edge</th>\n",
       "    </tr>\n",
       "  </thead>\n",
       "  <tbody>\n",
       "    <tr>\n",
       "      <th>@id</th>\n",
       "      <td>99.00</td>\n",
       "      <td>E0</td>\n",
       "    </tr>\n",
       "    <tr>\n",
       "      <th>lane</th>\n",
       "      <td>99.00</td>\n",
       "      <td>[{'@id': 'E0_0', 'vehicle': [{'@id': 'car2', '...</td>\n",
       "    </tr>\n",
       "  </tbody>\n",
       "</table>\n",
       "</div>"
      ],
      "text/plain": [
       "      @time                                               edge\n",
       "@id   99.00                                                 E0\n",
       "lane  99.00  [{'@id': 'E0_0', 'vehicle': [{'@id': 'car2', '..."
      ]
     },
     "execution_count": 37,
     "metadata": {},
     "output_type": "execute_result"
    }
   ],
   "source": [
    "with open('dump.xml', 'r') as file:\n",
    "    obj = xmltodict.parse(file.read())\n",
    "    \n",
    "# raw_data = json.dumps(obj)\n",
    "# data = json.loads(raw_data)\n",
    "with open('data.json', 'w', encoding='utf-8') as f:\n",
    "    json.dump(obj, f, ensure_ascii=False, indent=4)\n",
    "\n",
    "print(data['netstate']['timestep'][-1])\n",
    "last_time = data['netstate']['timestep'][-1]\n",
    "\n",
    "df = DataFrame(last_time)\n",
    "df"
   ]
  },
  {
   "cell_type": "code",
   "execution_count": null,
   "id": "1e7a0bbe",
   "metadata": {},
   "outputs": [],
   "source": [
    "with open(\"data.json\") as datafile:\n",
    "    "
   ]
  },
  {
   "cell_type": "code",
   "execution_count": 303,
   "id": "8af2d2bb",
   "metadata": {},
   "outputs": [
    {
     "name": "stdout",
     "output_type": "stream",
     "text": [
      "Count edge 1\n",
      "Type Edge: <class 'dict'>\n",
      "Count Lane 3\n",
      "Type Lane: <class 'list'>\n",
      "Count VehicleID 1\n",
      "Type VehicleID: <class 'dict'>\n"
     ]
    }
   ],
   "source": [
    "json = pd.read_json(\"data.json\")\n",
    "data = json.netstate.timestep[-1]\n",
    "print(\"Count edge\", count_key(data[\"edge\"], \"@id\"))\n",
    "print(\"Type Edge:\", type(data[\"edge\"]))\n",
    "\n",
    "print(\"Count Lane\", count_key(data[\"edge\"][\"lane\"], \"@id\"))\n",
    "print(\"Type Lane:\", type(data[\"edge\"][\"lane\"]))\n",
    "\n",
    "print(\"Count VehicleID\", count_key(data[\"edge\"][\"lane\"][0], \"@id\"))\n",
    "print(\"Type VehicleID:\", type(data[\"edge\"][\"lane\"][0]))\n",
    "\n"
   ]
  },
  {
   "cell_type": "code",
   "execution_count": null,
   "id": "03467c76",
   "metadata": {},
   "outputs": [],
   "source": [
    "\n",
    "# \n",
    "if isinstance(data[\"edge\"], dict) and count_key(data[\"edge\"], '@id')==1:\n",
    "    if isinstance(data[\"edge\"][\"lane\"], dict) and count_key(data[\"edge\"][\"lane\"], '@id')==1:\n",
    "        if isinstance(data[\"edge\"][\"lane\"]['vehicle'], dict) and count_key(data[\"edge\"][\"lane\"]['vehicle'], '@id')==1:\n",
    "            print(\"Edge,Lane,Vehicle only 1\")\n",
    "            print(\"EdgeID: \", data[\"edge\"][\"@id\"])\n",
    "            print(\"LaneID: \", data[\"edge\"][\"lane\"][\"@id\"])\n",
    "            print(\"vehicleID: \", data[\"edge\"][\"lane\"][\"vehicle\"][\"@id\"])\n",
    "        else:\n",
    "            for vehicle in range(count_key(data[\"edge\"][\"lane\"]['vehicle'], '@id')):\n",
    "                print(\"Edge,Lane only 1 but Vehicle multiple and this is {}\".format(vehicle))\n",
    "    else:\n",
    "        for lane in range(count_key(data[\"edge\"][\"lane\"], '@id')):\n",
    "            for vehicle in range(count_key(data[\"edge\"][\"lane\"][lane]['vehicle'], '@id')):\n",
    "    \n",
    "else:\n",
    "    pass"
   ]
  },
  {
   "cell_type": "code",
   "execution_count": 403,
   "id": "36a984ac",
   "metadata": {},
   "outputs": [
    {
     "name": "stdout",
     "output_type": "stream",
     "text": [
      "Last time: 99.00\n",
      "<class 'str'>\n",
      "Edge:E0, Lane:E0_0, Vehicle: {'id': 'car2', 'pos': '86.42', 'speed': '0.98'}\n",
      "<class 'dict'>\n",
      "car2\n"
     ]
    },
    {
     "ename": "ValueError",
     "evalue": "If using all scalar values, you must pass an index",
     "output_type": "error",
     "traceback": [
      "\u001b[1;31m---------------------------------------------------------------------------\u001b[0m",
      "\u001b[1;31mValueError\u001b[0m                                Traceback (most recent call last)",
      "Input \u001b[1;32mIn [403]\u001b[0m, in \u001b[0;36m<cell line: 9>\u001b[1;34m()\u001b[0m\n\u001b[0;32m     16\u001b[0m             \u001b[38;5;28mprint\u001b[39m(child3\u001b[38;5;241m.\u001b[39mattrib[\u001b[38;5;124m'\u001b[39m\u001b[38;5;124mid\u001b[39m\u001b[38;5;124m'\u001b[39m])\n\u001b[0;32m     17\u001b[0m             \u001b[38;5;28mdict\u001b[39m \u001b[38;5;241m=\u001b[39m {\u001b[38;5;124m'\u001b[39m\u001b[38;5;124mtime\u001b[39m\u001b[38;5;124m'\u001b[39m:last_time_step,\n\u001b[0;32m     18\u001b[0m                     \u001b[38;5;124m'\u001b[39m\u001b[38;5;124mcarID\u001b[39m\u001b[38;5;124m'\u001b[39m: child3\u001b[38;5;241m.\u001b[39mattrib[\u001b[38;5;124m'\u001b[39m\u001b[38;5;124mid\u001b[39m\u001b[38;5;124m'\u001b[39m],\n\u001b[0;32m     19\u001b[0m                     \u001b[38;5;124m'\u001b[39m\u001b[38;5;124medgeID\u001b[39m\u001b[38;5;124m'\u001b[39m:child\u001b[38;5;241m.\u001b[39mattrib[\u001b[38;5;124m'\u001b[39m\u001b[38;5;124mid\u001b[39m\u001b[38;5;124m'\u001b[39m],\n\u001b[0;32m     20\u001b[0m                     \u001b[38;5;124m'\u001b[39m\u001b[38;5;124mlaneID\u001b[39m\u001b[38;5;124m'\u001b[39m:child2\u001b[38;5;241m.\u001b[39mattrib[\u001b[38;5;124m'\u001b[39m\u001b[38;5;124mid\u001b[39m\u001b[38;5;124m'\u001b[39m],\n\u001b[0;32m     21\u001b[0m                     \u001b[38;5;124m'\u001b[39m\u001b[38;5;124mpos\u001b[39m\u001b[38;5;124m'\u001b[39m:child3\u001b[38;5;241m.\u001b[39mattrib[\u001b[38;5;124m'\u001b[39m\u001b[38;5;124mpos\u001b[39m\u001b[38;5;124m'\u001b[39m],\n\u001b[0;32m     22\u001b[0m                     \u001b[38;5;124m'\u001b[39m\u001b[38;5;124mspeed\u001b[39m\u001b[38;5;124m'\u001b[39m:child3\u001b[38;5;241m.\u001b[39mattrib[\u001b[38;5;124m'\u001b[39m\u001b[38;5;124mspeed\u001b[39m\u001b[38;5;124m'\u001b[39m]}\n\u001b[1;32m---> 23\u001b[0m             temp_df \u001b[38;5;241m=\u001b[39m \u001b[43mpd\u001b[49m\u001b[38;5;241;43m.\u001b[39;49m\u001b[43mDataFrame\u001b[49m\u001b[43m(\u001b[49m\u001b[38;5;28;43mdict\u001b[39;49m\u001b[43m)\u001b[49m\n\u001b[0;32m     24\u001b[0m             temp_df\u001b[38;5;241m.\u001b[39mhead(\u001b[38;5;241m5\u001b[39m)\n\u001b[0;32m     27\u001b[0m dataFrame\n",
      "File \u001b[1;32m~\\AppData\\Local\\Programs\\Python\\Python310\\lib\\site-packages\\pandas\\core\\frame.py:636\u001b[0m, in \u001b[0;36mDataFrame.__init__\u001b[1;34m(self, data, index, columns, dtype, copy)\u001b[0m\n\u001b[0;32m    630\u001b[0m     mgr \u001b[38;5;241m=\u001b[39m \u001b[38;5;28mself\u001b[39m\u001b[38;5;241m.\u001b[39m_init_mgr(\n\u001b[0;32m    631\u001b[0m         data, axes\u001b[38;5;241m=\u001b[39m{\u001b[38;5;124m\"\u001b[39m\u001b[38;5;124mindex\u001b[39m\u001b[38;5;124m\"\u001b[39m: index, \u001b[38;5;124m\"\u001b[39m\u001b[38;5;124mcolumns\u001b[39m\u001b[38;5;124m\"\u001b[39m: columns}, dtype\u001b[38;5;241m=\u001b[39mdtype, copy\u001b[38;5;241m=\u001b[39mcopy\n\u001b[0;32m    632\u001b[0m     )\n\u001b[0;32m    634\u001b[0m \u001b[38;5;28;01melif\u001b[39;00m \u001b[38;5;28misinstance\u001b[39m(data, \u001b[38;5;28mdict\u001b[39m):\n\u001b[0;32m    635\u001b[0m     \u001b[38;5;66;03m# GH#38939 de facto copy defaults to False only in non-dict cases\u001b[39;00m\n\u001b[1;32m--> 636\u001b[0m     mgr \u001b[38;5;241m=\u001b[39m \u001b[43mdict_to_mgr\u001b[49m\u001b[43m(\u001b[49m\u001b[43mdata\u001b[49m\u001b[43m,\u001b[49m\u001b[43m \u001b[49m\u001b[43mindex\u001b[49m\u001b[43m,\u001b[49m\u001b[43m \u001b[49m\u001b[43mcolumns\u001b[49m\u001b[43m,\u001b[49m\u001b[43m \u001b[49m\u001b[43mdtype\u001b[49m\u001b[38;5;241;43m=\u001b[39;49m\u001b[43mdtype\u001b[49m\u001b[43m,\u001b[49m\u001b[43m \u001b[49m\u001b[43mcopy\u001b[49m\u001b[38;5;241;43m=\u001b[39;49m\u001b[43mcopy\u001b[49m\u001b[43m,\u001b[49m\u001b[43m \u001b[49m\u001b[43mtyp\u001b[49m\u001b[38;5;241;43m=\u001b[39;49m\u001b[43mmanager\u001b[49m\u001b[43m)\u001b[49m\n\u001b[0;32m    637\u001b[0m \u001b[38;5;28;01melif\u001b[39;00m \u001b[38;5;28misinstance\u001b[39m(data, ma\u001b[38;5;241m.\u001b[39mMaskedArray):\n\u001b[0;32m    638\u001b[0m     \u001b[38;5;28;01mimport\u001b[39;00m \u001b[38;5;21;01mnumpy\u001b[39;00m\u001b[38;5;21;01m.\u001b[39;00m\u001b[38;5;21;01mma\u001b[39;00m\u001b[38;5;21;01m.\u001b[39;00m\u001b[38;5;21;01mmrecords\u001b[39;00m \u001b[38;5;28;01mas\u001b[39;00m \u001b[38;5;21;01mmrecords\u001b[39;00m\n",
      "File \u001b[1;32m~\\AppData\\Local\\Programs\\Python\\Python310\\lib\\site-packages\\pandas\\core\\internals\\construction.py:502\u001b[0m, in \u001b[0;36mdict_to_mgr\u001b[1;34m(data, index, columns, dtype, typ, copy)\u001b[0m\n\u001b[0;32m    494\u001b[0m     arrays \u001b[38;5;241m=\u001b[39m [\n\u001b[0;32m    495\u001b[0m         x\n\u001b[0;32m    496\u001b[0m         \u001b[38;5;28;01mif\u001b[39;00m \u001b[38;5;129;01mnot\u001b[39;00m \u001b[38;5;28mhasattr\u001b[39m(x, \u001b[38;5;124m\"\u001b[39m\u001b[38;5;124mdtype\u001b[39m\u001b[38;5;124m\"\u001b[39m) \u001b[38;5;129;01mor\u001b[39;00m \u001b[38;5;129;01mnot\u001b[39;00m \u001b[38;5;28misinstance\u001b[39m(x\u001b[38;5;241m.\u001b[39mdtype, ExtensionDtype)\n\u001b[0;32m    497\u001b[0m         \u001b[38;5;28;01melse\u001b[39;00m x\u001b[38;5;241m.\u001b[39mcopy()\n\u001b[0;32m    498\u001b[0m         \u001b[38;5;28;01mfor\u001b[39;00m x \u001b[38;5;129;01min\u001b[39;00m arrays\n\u001b[0;32m    499\u001b[0m     ]\n\u001b[0;32m    500\u001b[0m     \u001b[38;5;66;03m# TODO: can we get rid of the dt64tz special case above?\u001b[39;00m\n\u001b[1;32m--> 502\u001b[0m \u001b[38;5;28;01mreturn\u001b[39;00m \u001b[43marrays_to_mgr\u001b[49m\u001b[43m(\u001b[49m\u001b[43marrays\u001b[49m\u001b[43m,\u001b[49m\u001b[43m \u001b[49m\u001b[43mcolumns\u001b[49m\u001b[43m,\u001b[49m\u001b[43m \u001b[49m\u001b[43mindex\u001b[49m\u001b[43m,\u001b[49m\u001b[43m \u001b[49m\u001b[43mdtype\u001b[49m\u001b[38;5;241;43m=\u001b[39;49m\u001b[43mdtype\u001b[49m\u001b[43m,\u001b[49m\u001b[43m \u001b[49m\u001b[43mtyp\u001b[49m\u001b[38;5;241;43m=\u001b[39;49m\u001b[43mtyp\u001b[49m\u001b[43m,\u001b[49m\u001b[43m \u001b[49m\u001b[43mconsolidate\u001b[49m\u001b[38;5;241;43m=\u001b[39;49m\u001b[43mcopy\u001b[49m\u001b[43m)\u001b[49m\n",
      "File \u001b[1;32m~\\AppData\\Local\\Programs\\Python\\Python310\\lib\\site-packages\\pandas\\core\\internals\\construction.py:120\u001b[0m, in \u001b[0;36marrays_to_mgr\u001b[1;34m(arrays, columns, index, dtype, verify_integrity, typ, consolidate)\u001b[0m\n\u001b[0;32m    117\u001b[0m \u001b[38;5;28;01mif\u001b[39;00m verify_integrity:\n\u001b[0;32m    118\u001b[0m     \u001b[38;5;66;03m# figure out the index, if necessary\u001b[39;00m\n\u001b[0;32m    119\u001b[0m     \u001b[38;5;28;01mif\u001b[39;00m index \u001b[38;5;129;01mis\u001b[39;00m \u001b[38;5;28;01mNone\u001b[39;00m:\n\u001b[1;32m--> 120\u001b[0m         index \u001b[38;5;241m=\u001b[39m \u001b[43m_extract_index\u001b[49m\u001b[43m(\u001b[49m\u001b[43marrays\u001b[49m\u001b[43m)\u001b[49m\n\u001b[0;32m    121\u001b[0m     \u001b[38;5;28;01melse\u001b[39;00m:\n\u001b[0;32m    122\u001b[0m         index \u001b[38;5;241m=\u001b[39m ensure_index(index)\n",
      "File \u001b[1;32m~\\AppData\\Local\\Programs\\Python\\Python310\\lib\\site-packages\\pandas\\core\\internals\\construction.py:664\u001b[0m, in \u001b[0;36m_extract_index\u001b[1;34m(data)\u001b[0m\n\u001b[0;32m    661\u001b[0m         \u001b[38;5;28;01mraise\u001b[39;00m \u001b[38;5;167;01mValueError\u001b[39;00m(\u001b[38;5;124m\"\u001b[39m\u001b[38;5;124mPer-column arrays must each be 1-dimensional\u001b[39m\u001b[38;5;124m\"\u001b[39m)\n\u001b[0;32m    663\u001b[0m \u001b[38;5;28;01mif\u001b[39;00m \u001b[38;5;129;01mnot\u001b[39;00m indexes \u001b[38;5;129;01mand\u001b[39;00m \u001b[38;5;129;01mnot\u001b[39;00m raw_lengths:\n\u001b[1;32m--> 664\u001b[0m     \u001b[38;5;28;01mraise\u001b[39;00m \u001b[38;5;167;01mValueError\u001b[39;00m(\u001b[38;5;124m\"\u001b[39m\u001b[38;5;124mIf using all scalar values, you must pass an index\u001b[39m\u001b[38;5;124m\"\u001b[39m)\n\u001b[0;32m    666\u001b[0m \u001b[38;5;28;01melif\u001b[39;00m have_series:\n\u001b[0;32m    667\u001b[0m     index \u001b[38;5;241m=\u001b[39m union_indexes(indexes)\n",
      "\u001b[1;31mValueError\u001b[0m: If using all scalar values, you must pass an index"
     ]
    }
   ],
   "source": [
    "tree = ET.parse('dump.xml')\n",
    "root = tree.getroot()\n",
    "#print(root.tag, root.attrib)\n",
    "last_time_step = str(root[len(root)-1].attrib['time'])\n",
    "print(\"Last time:\",last_time_step)\n",
    "print(type(last_time_step))\n",
    "dataFrame = pd.DataFrame(columns=['time', 'carID', 'edgeID', 'laneID', 'pos', 'speed'])\n",
    "\n",
    "for child in root[len(root)-1]:\n",
    "    for child2 in child:\n",
    "        #print(child2)\n",
    "        #print(f\"Lane:{child2.tag}, {child2.attrib}\")\n",
    "        for child3 in child2:\n",
    "            print(f\"Edge:{child.attrib['id']}, Lane:{child2.attrib['id']}, Vehicle: {child3.attrib}\")\n",
    "            print(type(child3.attrib))\n",
    "            print(child3.attrib['id'])\n",
    "            dict = {'time':str(last_time_step),\n",
    "                    'carID': str(child3.attrib['id']),\n",
    "                    'edgeID':str(child.attrib['id']),\n",
    "                    'laneID':str(child2.attrib['id']),\n",
    "                    'pos':str(child3.attrib['pos']),\n",
    "                    'speed':str(child3.attrib['speed'])}\n",
    "            temp_df = pd.DataFrame(dict)\n",
    "            temp_df.head(5)\n",
    "            \n",
    "\n",
    "dataFrame\n",
    "\n",
    "# for child in root:\n",
    "#     print(child.tag, child.attrib)\n"
   ]
  },
  {
   "cell_type": "code",
   "execution_count": null,
   "id": "90903eb9",
   "metadata": {},
   "outputs": [],
   "source": []
  },
  {
   "cell_type": "code",
   "execution_count": 287,
   "id": "6a07c591",
   "metadata": {
    "scrolled": true
   },
   "outputs": [
    {
     "name": "stdout",
     "output_type": "stream",
     "text": [
      "Count edge 1\n",
      "Type Edge: <class 'dict'>\n",
      "Count Lane 3\n",
      "Type Lane: <class 'list'>\n",
      "Count VehicleID 1\n",
      "Type VehicleID: <class 'dict'>\n",
      "<class 'str'>\n",
      "<class 'str'>\n"
     ]
    }
   ],
   "source": [
    "\n",
    "\n",
    "    \n",
    "    \n",
    "    \n",
    "    \n",
    "    \n",
    "    \n",
    "    \n",
    "# print(\"edge id \", data[\"edge\"]['@id'])\n",
    "# print(\"edge len \", len(data.keys()))\n",
    "# print(\"lane len \", len(data[\"edge\"][\"lane\"]))\n",
    "# print(\"How many key?:\", count_key(data[\"edge\"][\"lane\"], '@id'))\n",
    "\n",
    "\n",
    "# print('{} edge!'.format(count_key(data[\"edge\"], '@id')))\n",
    "# print('{} lane!'.format(count_key(data[\"edge\"][\"lane\"], '@id')))\n",
    "# print('{} vehicle!'.format(count_key(data[\"edge\"][\"lane\"][\"vehicle\"], '@id') if isinstance(data[\"edge\"][\"lane\"], dict) else len(data[\"edge\"][\"lane\"])))\n",
    "\n",
    "# for edge in range(count_key(data[\"edge\"], '@id') if isinstance(data[\"edge\"], list) else 5):\n",
    "#      for lane in range(count_key(data[\"edge\"][\"lane\"], '@id')):\n",
    "#         #if 'vehicle' in data[\"edge\"][\"lane\"][lane]:\n",
    "#         #print(\"Vehicles: \",count_key(data[\"edge\"][\"lane\"][lane]['vehicle'], '@id'))\n",
    "#         print(type(data[\"edge\"][\"lane\"][lane]['vehicle']))\n",
    "#         for vehicle in range(count_key(data[\"edge\"][\"lane\"][lane]['vehicle'], '@id')):\n",
    "#             print(\"Lane:\", data[\"edge\"][\"lane\"][lane])\n",
    "#             print(\"Vehicle:\", data[\"edge\"][\"lane\"][lane]['vehicle'])\n",
    "#             print(count_key(data[\"edge\"][\"lane\"][lane]['vehicle'], '@id'))\n",
    "#                print(vehicle)\n",
    "#                 temp=data[\"edge\"][\"lane\"][lane]\n",
    "#                 print(temp['vehicle'])\n",
    "             \n",
    "\n",
    "                \n",
    "            #print(type(data[\"edge\"][\"lane\"][lane]))\n",
    "            #print(data[\"edge\"][\"lane\"][lane].values)\n",
    "            \n",
    "#         for vehicle in range(len(temp['vehicle'])):\n",
    "#             print(f'Vehicle on the lane {i}:')\n",
    "#         del temp\n",
    "#                 print(data_lane[i]['vehicle'][v])\n",
    "#                 print(data_lane[i]['vehicle'][v]['@id'], \\\n",
    "#                      'is on position {}'.format(data_lane[i]['vehicle'][v]['@pos']),\\\n",
    "#                      ' and speed {}'.format(data_lane[i]['vehicle'][v]['@speed']))\n",
    "                \n",
    "# for net in range(len(data)):\n",
    "#     print(type(data_1), \"Starts here\")\n",
    "#     keys=[] \n",
    "#     values=[]\n",
    "#     for key, value in data.items():\n",
    "#         keys.append(key)\n",
    "#         values.append(value)\n",
    "#     print(f\"keys: {keys}, values: {values}\")\n",
    "\n",
    "# print('Len of netstate:', len(data_1))\n",
    "# data_edge = data['edge']\n",
    "# data_lane = data_edge['lane']\n",
    "# print(type(data_edge))\n",
    "# for key, value in data_edge.items():\n",
    "#     print(f\"key: {key}, value: {value}\")\n",
    "\n",
    "# print('Edge:', len(data_edge))\n",
    "# for edge in range(len(data_edge)):\n",
    "#     for i in range(len(data_lane)):\n",
    "#     #     print('Exist_', len(data_lane[i]))\n",
    "#         if len(data_lane[i]) >1:\n",
    "#             print(len(data_lane[i]['vehicle']))\n",
    "#             for v in range(len(data_lane[i]['vehicle'])):\n",
    "#                 print(f'Vehicle on the lane {i}:')\n",
    "#                 print(data_lane[i]['vehicle'][v])\n",
    "#                 print(data_lane[i]['vehicle'][v]['@id'], \\\n",
    "#                      'is on position {}'.format(data_lane[i]['vehicle'][v]['@pos']),\\\n",
    "#                      ' and speed {}'.format(data_lane[i]['vehicle'][v]['@speed']))\n",
    "\n",
    "#         else:\n",
    "#             print(f'No vehicle on the lane {i}')\n",
    "#     #         print('False')\n",
    "    \n",
    "# print(\"LEN:\", len(data_lane))\n",
    "\n",
    "# print(len(data_lane[0]['vehicle']))\n",
    "# data_vehicle = []\n",
    "\n",
    "# bn = pd.DataFrame(data_vehicle)\n",
    "# pd.DataFrame.from_records(bn).head()\n",
    "\n"
   ]
  },
  {
   "cell_type": "code",
   "execution_count": 9,
   "id": "332c482e",
   "metadata": {},
   "outputs": [
    {
     "name": "stdout",
     "output_type": "stream",
     "text": [
      "{\"netstate\":{\"0\":{\"@xmlns:xsi\":\"http:\\/\\/www.w3.org\\/2001\\/XMLSchema-instance\",\"@xsi:noNamespaceSchemaLocation\":\"http:\\/\\/sumo.dlr.de\\/xsd\\/netstate_file.xsd\",\"timestep\":[{\"@time\":\"0.00\",\"edge\":{\"@id\":\"E0\",\"lane\":[{\"@id\":\"E0_0\",\"vehicle\":{\"@id\":\"car1\",\"@pos\":\"16.69\",\"@speed\":\"0.00\"}},{\"@id\":\"E0_1\"},{\"@id\":\"E0_2\"}]}},{\"@time\":\"1.00\",\"edge\":{\"@id\":\"E0\",\"lane\":[{\"@id\":\"E0_0\",\"vehicle\":{\"@id\":\"car1\",\"@pos\":\"17.41\",\"@speed\":\"0.72\"}},{\"@id\":\"E0_1\"},{\"@id\":\"E0_2\"}]}},{\"@time\":\"2.00\",\"edge\":{\"@id\":\"E0\",\"lane\":[{\"@id\":\"E0_0\",\"vehicle\":{\"@id\":\"car1\",\"@pos\":\"18.05\",\"@speed\":\"0.64\"}},{\"@id\":\"E0_1\"},{\"@id\":\"E0_2\"}]}},{\"@time\":\"3.00\",\"edge\":{\"@id\":\"E0\",\"lane\":[{\"@id\":\"E0_0\",\"vehicle\":{\"@id\":\"car1\",\"@pos\":\"19.01\",\"@speed\":\"0.95\"}},{\"@id\":\"E0_1\"},{\"@id\":\"E0_2\"}]}},{\"@time\":\"4.00\",\"edge\":{\"@id\":\"E0\",\"lane\":[{\"@id\":\"E0_0\",\"vehicle\":{\"@id\":\"car1\",\"@pos\":\"19.78\",\"@speed\":\"0.77\"}},{\"@id\":\"E0_1\"},{\"@id\":\"E0_2\"}]}},{\"@time\":\"5.00\",\"edge\":{\"@id\":\"E0\",\"lane\":[{\"@id\":\"E0_0\",\"vehicle\":{\"@id\":\"car1\",\"@pos\":\"20.69\",\"@speed\":\"0.91\"}},{\"@id\":\"E0_1\"},{\"@id\":\"E0_2\"}]}},{\"@time\":\"6.00\",\"edge\":{\"@id\":\"E0\",\"lane\":[{\"@id\":\"E0_0\",\"vehicle\":{\"@id\":\"car1\",\"@pos\":\"21.53\",\"@speed\":\"0.85\"}},{\"@id\":\"E0_1\"},{\"@id\":\"E0_2\"}]}},{\"@time\":\"7.00\",\"edge\":{\"@id\":\"E0\",\"lane\":[{\"@id\":\"E0_0\",\"vehicle\":{\"@id\":\"car1\",\"@pos\":\"22.18\",\"@speed\":\"0.64\"}},{\"@id\":\"E0_1\"},{\"@id\":\"E0_2\"}]}},{\"@time\":\"8.00\",\"edge\":{\"@id\":\"E0\",\"lane\":[{\"@id\":\"E0_0\",\"vehicle\":{\"@id\":\"car1\",\"@pos\":\"22.92\",\"@speed\":\"0.74\"}},{\"@id\":\"E0_1\"},{\"@id\":\"E0_2\"}]}},{\"@time\":\"9.00\",\"edge\":{\"@id\":\"E0\",\"lane\":[{\"@id\":\"E0_0\",\"vehicle\":{\"@id\":\"car1\",\"@pos\":\"23.57\",\"@speed\":\"0.65\"}},{\"@id\":\"E0_1\"},{\"@id\":\"E0_2\"}]}},{\"@time\":\"10.00\",\"edge\":{\"@id\":\"E0\",\"lane\":[{\"@id\":\"E0_0\",\"vehicle\":[{\"@id\":\"car2\",\"@pos\":\"16.69\",\"@speed\":\"0.00\"},{\"@id\":\"car1\",\"@pos\":\"24.23\",\"@speed\":\"0.66\"}]},{\"@id\":\"E0_1\"},{\"@id\":\"E0_2\"}]}},{\"@time\":\"11.00\",\"edge\":{\"@id\":\"E0\",\"lane\":[{\"@id\":\"E0_0\",\"vehicle\":[{\"@id\":\"car2\",\"@pos\":\"16.73\",\"@speed\":\"0.04\"},{\"@id\":\"car1\",\"@pos\":\"24.91\",\"@speed\":\"0.68\"}]},{\"@id\":\"E0_1\"},{\"@id\":\"E0_2\"}]}},{\"@time\":\"12.00\",\"edge\":{\"@id\":\"E0\",\"lane\":[{\"@id\":\"E0_0\",\"vehicle\":[{\"@id\":\"car2\",\"@pos\":\"17.26\",\"@speed\":\"0.53\"},{\"@id\":\"car1\",\"@pos\":\"25.77\",\"@speed\":\"0.86\"}]},{\"@id\":\"E0_1\"},{\"@id\":\"E0_2\"}]}},{\"@time\":\"13.00\",\"edge\":{\"@id\":\"E0\",\"lane\":[{\"@id\":\"E0_0\",\"vehicle\":[{\"@id\":\"car2\",\"@pos\":\"18.25\",\"@speed\":\"0.99\"},{\"@id\":\"car1\",\"@pos\":\"26.52\",\"@speed\":\"0.75\"}]},{\"@id\":\"E0_1\"},{\"@id\":\"E0_2\"}]}},{\"@time\":\"14.00\",\"edge\":{\"@id\":\"E0\",\"lane\":[{\"@id\":\"E0_0\",\"vehicle\":[{\"@id\":\"car2\",\"@pos\":\"18.77\",\"@speed\":\"0.52\"},{\"@id\":\"car1\",\"@pos\":\"27.21\",\"@speed\":\"0.69\"}]},{\"@id\":\"E0_1\"},{\"@id\":\"E0_2\"}]}},{\"@time\":\"15.00\",\"edge\":{\"@id\":\"E0\",\"lane\":[{\"@id\":\"E0_0\",\"vehicle\":[{\"@id\":\"car2\",\"@pos\":\"19.41\",\"@speed\":\"0.64\"},{\"@id\":\"car1\",\"@pos\":\"28.07\",\"@speed\":\"0.85\"}]},{\"@id\":\"E0_1\"},{\"@id\":\"E0_2\"}]}},{\"@time\":\"16.00\",\"edge\":{\"@id\":\"E0\",\"lane\":[{\"@id\":\"E0_0\",\"vehicle\":[{\"@id\":\"car2\",\"@pos\":\"20.02\",\"@speed\":\"0.61\"},{\"@id\":\"car1\",\"@pos\":\"28.87\",\"@speed\":\"0.80\"}]},{\"@id\":\"E0_1\"},{\"@id\":\"E0_2\"}]}},{\"@time\":\"17.00\",\"edge\":{\"@id\":\"E0\",\"lane\":[{\"@id\":\"E0_0\",\"vehicle\":[{\"@id\":\"car2\",\"@pos\":\"20.71\",\"@speed\":\"0.69\"},{\"@id\":\"car1\",\"@pos\":\"29.51\",\"@speed\":\"0.64\"}]},{\"@id\":\"E0_1\"},{\"@id\":\"E0_2\"}]}},{\"@time\":\"18.00\",\"edge\":{\"@id\":\"E0\",\"lane\":[{\"@id\":\"E0_0\",\"vehicle\":[{\"@id\":\"car2\",\"@pos\":\"21.52\",\"@speed\":\"0.81\"},{\"@id\":\"car1\",\"@pos\":\"30.34\",\"@speed\":\"0.83\"}]},{\"@id\":\"E0_1\"},{\"@id\":\"E0_2\"}]}},{\"@time\":\"19.00\",\"edge\":{\"@id\":\"E0\",\"lane\":[{\"@id\":\"E0_0\",\"vehicle\":[{\"@id\":\"car2\",\"@pos\":\"22.33\",\"@speed\":\"0.81\"},{\"@id\":\"car1\",\"@pos\":\"31.19\",\"@speed\":\"0.85\"}]},{\"@id\":\"E0_1\"},{\"@id\":\"E0_2\"}]}},{\"@time\":\"20.00\",\"edge\":{\"@id\":\"E0\",\"lane\":[{\"@id\":\"E0_0\",\"vehicle\":[{\"@id\":\"car2\",\"@pos\":\"23.21\",\"@speed\":\"0.88\"},{\"@id\":\"car1\",\"@pos\":\"31.83\",\"@speed\":\"0.64\"}]},{\"@id\":\"E0_1\"},{\"@id\":\"E0_2\"}]}},{\"@time\":\"21.00\",\"edge\":{\"@id\":\"E0\",\"lane\":[{\"@id\":\"E0_0\",\"vehicle\":[{\"@id\":\"car2\",\"@pos\":\"23.84\",\"@speed\":\"0.63\"},{\"@id\":\"car1\",\"@pos\":\"32.63\",\"@speed\":\"0.80\"}]},{\"@id\":\"E0_1\"},{\"@id\":\"E0_2\"}]}},{\"@time\":\"22.00\",\"edge\":{\"@id\":\"E0\",\"lane\":[{\"@id\":\"E0_0\",\"vehicle\":[{\"@id\":\"car2\",\"@pos\":\"24.82\",\"@speed\":\"0.98\"},{\"@id\":\"car1\",\"@pos\":\"33.45\",\"@speed\":\"0.82\"}]},{\"@id\":\"E0_1\"},{\"@id\":\"E0_2\"}]}},{\"@time\":\"23.00\",\"edge\":{\"@id\":\"E0\",\"lane\":[{\"@id\":\"E0_0\",\"vehicle\":[{\"@id\":\"car2\",\"@pos\":\"25.59\",\"@speed\":\"0.77\"},{\"@id\":\"car1\",\"@pos\":\"34.40\",\"@speed\":\"0.95\"}]},{\"@id\":\"E0_1\"},{\"@id\":\"E0_2\"}]}},{\"@time\":\"24.00\",\"edge\":{\"@id\":\"E0\",\"lane\":[{\"@id\":\"E0_0\",\"vehicle\":[{\"@id\":\"car2\",\"@pos\":\"26.53\",\"@speed\":\"0.95\"},{\"@id\":\"car1\",\"@pos\":\"35.10\",\"@speed\":\"0.70\"}]},{\"@id\":\"E0_1\"},{\"@id\":\"E0_2\"}]}},{\"@time\":\"25.00\",\"edge\":{\"@id\":\"E0\",\"lane\":[{\"@id\":\"E0_0\",\"vehicle\":[{\"@id\":\"car2\",\"@pos\":\"27.14\",\"@speed\":\"0.61\"},{\"@id\":\"car1\",\"@pos\":\"35.75\",\"@speed\":\"0.65\"}]},{\"@id\":\"E0_1\"},{\"@id\":\"E0_2\"}]}},{\"@time\":\"26.00\",\"edge\":{\"@id\":\"E0\",\"lane\":[{\"@id\":\"E0_0\",\"vehicle\":[{\"@id\":\"car2\",\"@pos\":\"27.82\",\"@speed\":\"0.68\"},{\"@id\":\"car1\",\"@pos\":\"36.43\",\"@speed\":\"0.68\"}]},{\"@id\":\"E0_1\"},{\"@id\":\"E0_2\"}]}},{\"@time\":\"27.00\",\"edge\":{\"@id\":\"E0\",\"lane\":[{\"@id\":\"E0_0\",\"vehicle\":[{\"@id\":\"car2\",\"@pos\":\"28.46\",\"@speed\":\"0.64\"},{\"@id\":\"car1\",\"@pos\":\"37.22\",\"@speed\":\"0.79\"}]},{\"@id\":\"E0_1\"},{\"@id\":\"E0_2\"}]}},{\"@time\":\"28.00\",\"edge\":{\"@id\":\"E0\",\"lane\":[{\"@id\":\"E0_0\",\"vehicle\":[{\"@id\":\"car2\",\"@pos\":\"29.10\",\"@speed\":\"0.64\"},{\"@id\":\"car1\",\"@pos\":\"38.00\",\"@speed\":\"0.78\"}]},{\"@id\":\"E0_1\"},{\"@id\":\"E0_2\"}]}},{\"@time\":\"29.00\",\"edge\":{\"@id\":\"E0\",\"lane\":[{\"@id\":\"E0_0\",\"vehicle\":[{\"@id\":\"car2\",\"@pos\":\"29.73\",\"@speed\":\"0.63\"},{\"@id\":\"car1\",\"@pos\":\"38.85\",\"@speed\":\"0.85\"}]},{\"@id\":\"E0_1\"},{\"@id\":\"E0_2\"}]}},{\"@time\":\"30.00\",\"edge\":{\"@id\":\"E0\",\"lane\":[{\"@id\":\"E0_0\",\"vehicle\":[{\"@id\":\"car2\",\"@pos\":\"30.71\",\"@speed\":\"0.98\"},{\"@id\":\"car1\",\"@pos\":\"39.79\",\"@speed\":\"0.93\"}]},{\"@id\":\"E0_1\"},{\"@id\":\"E0_2\"}]}},{\"@time\":\"31.00\",\"edge\":{\"@id\":\"E0\",\"lane\":[{\"@id\":\"E0_0\",\"vehicle\":[{\"@id\":\"car2\",\"@pos\":\"31.59\",\"@speed\":\"0.88\"},{\"@id\":\"car1\",\"@pos\":\"40.75\",\"@speed\":\"0.96\"}]},{\"@id\":\"E0_1\"},{\"@id\":\"E0_2\"}]}},{\"@time\":\"32.00\",\"edge\":{\"@id\":\"E0\",\"lane\":[{\"@id\":\"E0_0\",\"vehicle\":[{\"@id\":\"car2\",\"@pos\":\"32.29\",\"@speed\":\"0.70\"},{\"@id\":\"car1\",\"@pos\":\"41.48\",\"@speed\":\"0.74\"}]},{\"@id\":\"E0_1\"},{\"@id\":\"E0_2\"}]}},{\"@time\":\"33.00\",\"edge\":{\"@id\":\"E0\",\"lane\":[{\"@id\":\"E0_0\",\"vehicle\":[{\"@id\":\"car2\",\"@pos\":\"33.20\",\"@speed\":\"0.91\"},{\"@id\":\"car1\",\"@pos\":\"42.43\",\"@speed\":\"0.95\"}]},{\"@id\":\"E0_1\"},{\"@id\":\"E0_2\"}]}},{\"@time\":\"34.00\",\"edge\":{\"@id\":\"E0\",\"lane\":[{\"@id\":\"E0_0\",\"vehicle\":[{\"@id\":\"car2\",\"@pos\":\"33.98\",\"@speed\":\"0.78\"},{\"@id\":\"car1\",\"@pos\":\"43.30\",\"@speed\":\"0.86\"}]},{\"@id\":\"E0_1\"},{\"@id\":\"E0_2\"}]}},{\"@time\":\"35.00\",\"edge\":{\"@id\":\"E0\",\"lane\":[{\"@id\":\"E0_0\",\"vehicle\":[{\"@id\":\"car2\",\"@pos\":\"34.96\",\"@speed\":\"0.98\"},{\"@id\":\"car1\",\"@pos\":\"44.21\",\"@speed\":\"0.91\"}]},{\"@id\":\"E0_1\"},{\"@id\":\"E0_2\"}]}},{\"@time\":\"36.00\",\"edge\":{\"@id\":\"E0\",\"lane\":[{\"@id\":\"E0_0\",\"vehicle\":[{\"@id\":\"car2\",\"@pos\":\"35.68\",\"@speed\":\"0.72\"},{\"@id\":\"car1\",\"@pos\":\"44.97\",\"@speed\":\"0.76\"}]},{\"@id\":\"E0_1\"},{\"@id\":\"E0_2\"}]}},{\"@time\":\"37.00\",\"edge\":{\"@id\":\"E0\",\"lane\":[{\"@id\":\"E0_0\",\"vehicle\":[{\"@id\":\"car2\",\"@pos\":\"36.43\",\"@speed\":\"0.75\"},{\"@id\":\"car1\",\"@pos\":\"45.67\",\"@speed\":\"0.70\"}]},{\"@id\":\"E0_1\"},{\"@id\":\"E0_2\"}]}},{\"@time\":\"38.00\",\"edge\":{\"@id\":\"E0\",\"lane\":[{\"@id\":\"E0_0\",\"vehicle\":[{\"@id\":\"car2\",\"@pos\":\"37.22\",\"@speed\":\"0.79\"},{\"@id\":\"car1\",\"@pos\":\"46.31\",\"@speed\":\"0.64\"}]},{\"@id\":\"E0_1\"},{\"@id\":\"E0_2\"}]}},{\"@time\":\"39.00\",\"edge\":{\"@id\":\"E0\",\"lane\":[{\"@id\":\"E0_0\",\"vehicle\":[{\"@id\":\"car2\",\"@pos\":\"38.21\",\"@speed\":\"0.99\"},{\"@id\":\"car1\",\"@pos\":\"47.10\",\"@speed\":\"0.80\"}]},{\"@id\":\"E0_1\"},{\"@id\":\"E0_2\"}]}},{\"@time\":\"40.00\",\"edge\":{\"@id\":\"E0\",\"lane\":[{\"@id\":\"E0_0\",\"vehicle\":[{\"@id\":\"car2\",\"@pos\":\"38.97\",\"@speed\":\"0.76\"},{\"@id\":\"car1\",\"@pos\":\"47.97\",\"@speed\":\"0.86\"}]},{\"@id\":\"E0_1\"},{\"@id\":\"E0_2\"}]}},{\"@time\":\"41.00\",\"edge\":{\"@id\":\"E0\",\"lane\":[{\"@id\":\"E0_0\",\"vehicle\":[{\"@id\":\"car2\",\"@pos\":\"39.90\",\"@speed\":\"0.93\"},{\"@id\":\"car1\",\"@pos\":\"48.65\",\"@speed\":\"0.69\"}]},{\"@id\":\"E0_1\"},{\"@id\":\"E0_2\"}]}},{\"@time\":\"42.00\",\"edge\":{\"@id\":\"E0\",\"lane\":[{\"@id\":\"E0_0\",\"vehicle\":[{\"@id\":\"car2\",\"@pos\":\"40.58\",\"@speed\":\"0.68\"},{\"@id\":\"car1\",\"@pos\":\"49.47\",\"@speed\":\"0.82\"}]},{\"@id\":\"E0_1\"},{\"@id\":\"E0_2\"}]}},{\"@time\":\"43.00\",\"edge\":{\"@id\":\"E0\",\"lane\":[{\"@id\":\"E0_0\",\"vehicle\":[{\"@id\":\"car2\",\"@pos\":\"41.40\",\"@speed\":\"0.82\"},{\"@id\":\"car1\",\"@pos\":\"50.09\",\"@speed\":\"0.63\"}]},{\"@id\":\"E0_1\"},{\"@id\":\"E0_2\"}]}},{\"@time\":\"44.00\",\"edge\":{\"@id\":\"E0\",\"lane\":[{\"@id\":\"E0_0\",\"vehicle\":[{\"@id\":\"car2\",\"@pos\":\"42.22\",\"@speed\":\"0.83\"},{\"@id\":\"car1\",\"@pos\":\"50.98\",\"@speed\":\"0.88\"}]},{\"@id\":\"E0_1\"},{\"@id\":\"E0_2\"}]}},{\"@time\":\"45.00\",\"edge\":{\"@id\":\"E0\",\"lane\":[{\"@id\":\"E0_0\",\"vehicle\":[{\"@id\":\"car2\",\"@pos\":\"43.06\",\"@speed\":\"0.84\"},{\"@id\":\"car1\",\"@pos\":\"51.90\",\"@speed\":\"0.92\"}]},{\"@id\":\"E0_1\"},{\"@id\":\"E0_2\"}]}},{\"@time\":\"46.00\",\"edge\":{\"@id\":\"E0\",\"lane\":[{\"@id\":\"E0_0\",\"vehicle\":[{\"@id\":\"car2\",\"@pos\":\"43.67\",\"@speed\":\"0.61\"},{\"@id\":\"car1\",\"@pos\":\"52.69\",\"@speed\":\"0.79\"}]},{\"@id\":\"E0_1\"},{\"@id\":\"E0_2\"}]}},{\"@time\":\"47.00\",\"edge\":{\"@id\":\"E0\",\"lane\":[{\"@id\":\"E0_0\",\"vehicle\":[{\"@id\":\"car2\",\"@pos\":\"44.58\",\"@speed\":\"0.91\"},{\"@id\":\"car1\",\"@pos\":\"53.62\",\"@speed\":\"0.93\"}]},{\"@id\":\"E0_1\"},{\"@id\":\"E0_2\"}]}},{\"@time\":\"48.00\",\"edge\":{\"@id\":\"E0\",\"lane\":[{\"@id\":\"E0_0\",\"vehicle\":[{\"@id\":\"car2\",\"@pos\":\"45.36\",\"@speed\":\"0.78\"},{\"@id\":\"car1\",\"@pos\":\"54.40\",\"@speed\":\"0.78\"}]},{\"@id\":\"E0_1\"},{\"@id\":\"E0_2\"}]}},{\"@time\":\"49.00\",\"edge\":{\"@id\":\"E0\",\"lane\":[{\"@id\":\"E0_0\",\"vehicle\":[{\"@id\":\"car2\",\"@pos\":\"46.24\",\"@speed\":\"0.88\"},{\"@id\":\"car1\",\"@pos\":\"55.11\",\"@speed\":\"0.71\"}]},{\"@id\":\"E0_1\"},{\"@id\":\"E0_2\"}]}},{\"@time\":\"50.00\",\"edge\":{\"@id\":\"E0\",\"lane\":[{\"@id\":\"E0_0\",\"vehicle\":[{\"@id\":\"car2\",\"@pos\":\"46.86\",\"@speed\":\"0.62\"},{\"@id\":\"car1\",\"@pos\":\"55.81\",\"@speed\":\"0.70\"}]},{\"@id\":\"E0_1\"},{\"@id\":\"E0_2\"}]}},{\"@time\":\"51.00\",\"edge\":{\"@id\":\"E0\",\"lane\":[{\"@id\":\"E0_0\",\"vehicle\":[{\"@id\":\"car2\",\"@pos\":\"47.78\",\"@speed\":\"0.92\"},{\"@id\":\"car1\",\"@pos\":\"56.48\",\"@speed\":\"0.67\"}]},{\"@id\":\"E0_1\"},{\"@id\":\"E0_2\"}]}},{\"@time\":\"52.00\",\"edge\":{\"@id\":\"E0\",\"lane\":[{\"@id\":\"E0_0\",\"vehicle\":[{\"@id\":\"car2\",\"@pos\":\"48.51\",\"@speed\":\"0.73\"},{\"@id\":\"car1\",\"@pos\":\"57.17\",\"@speed\":\"0.69\"}]},{\"@id\":\"E0_1\"},{\"@id\":\"E0_2\"}]}},{\"@time\":\"53.00\",\"edge\":{\"@id\":\"E0\",\"lane\":[{\"@id\":\"E0_0\",\"vehicle\":[{\"@id\":\"car2\",\"@pos\":\"49.45\",\"@speed\":\"0.94\"},{\"@id\":\"car1\",\"@pos\":\"58.13\",\"@speed\":\"0.96\"}]},{\"@id\":\"E0_1\"},{\"@id\":\"E0_2\"}]}},{\"@time\":\"54.00\",\"edge\":{\"@id\":\"E0\",\"lane\":[{\"@id\":\"E0_0\",\"vehicle\":[{\"@id\":\"car2\",\"@pos\":\"50.43\",\"@speed\":\"0.97\"},{\"@id\":\"car1\",\"@pos\":\"59.07\",\"@speed\":\"0.94\"}]},{\"@id\":\"E0_1\"},{\"@id\":\"E0_2\"}]}},{\"@time\":\"55.00\",\"edge\":{\"@id\":\"E0\",\"lane\":[{\"@id\":\"E0_0\",\"vehicle\":[{\"@id\":\"car2\",\"@pos\":\"51.15\",\"@speed\":\"0.72\"},{\"@id\":\"car1\",\"@pos\":\"59.98\",\"@speed\":\"0.92\"}]},{\"@id\":\"E0_1\"},{\"@id\":\"E0_2\"}]}},{\"@time\":\"56.00\",\"edge\":{\"@id\":\"E0\",\"lane\":[{\"@id\":\"E0_0\",\"vehicle\":[{\"@id\":\"car2\",\"@pos\":\"52.13\",\"@speed\":\"0.99\"},{\"@id\":\"car1\",\"@pos\":\"60.78\",\"@speed\":\"0.79\"}]},{\"@id\":\"E0_1\"},{\"@id\":\"E0_2\"}]}},{\"@time\":\"57.00\",\"edge\":{\"@id\":\"E0\",\"lane\":[{\"@id\":\"E0_0\",\"vehicle\":[{\"@id\":\"car2\",\"@pos\":\"53.06\",\"@speed\":\"0.93\"},{\"@id\":\"car1\",\"@pos\":\"61.77\",\"@speed\":\"0.99\"}]},{\"@id\":\"E0_1\"},{\"@id\":\"E0_2\"}]}},{\"@time\":\"58.00\",\"edge\":{\"@id\":\"E0\",\"lane\":[{\"@id\":\"E0_0\",\"vehicle\":[{\"@id\":\"car2\",\"@pos\":\"53.95\",\"@speed\":\"0.89\"},{\"@id\":\"car1\",\"@pos\":\"62.46\",\"@speed\":\"0.69\"}]},{\"@id\":\"E0_1\"},{\"@id\":\"E0_2\"}]}},{\"@time\":\"59.00\",\"edge\":{\"@id\":\"E0\",\"lane\":[{\"@id\":\"E0_0\",\"vehicle\":[{\"@id\":\"car2\",\"@pos\":\"54.83\",\"@speed\":\"0.87\"},{\"@id\":\"car1\",\"@pos\":\"63.38\",\"@speed\":\"0.92\"}]},{\"@id\":\"E0_1\"},{\"@id\":\"E0_2\"}]}},{\"@time\":\"60.00\",\"edge\":{\"@id\":\"E0\",\"lane\":[{\"@id\":\"E0_0\",\"vehicle\":[{\"@id\":\"car2\",\"@pos\":\"55.72\",\"@speed\":\"0.89\"},{\"@id\":\"car1\",\"@pos\":\"64.16\",\"@speed\":\"0.79\"}]},{\"@id\":\"E0_1\"},{\"@id\":\"E0_2\"}]}},{\"@time\":\"61.00\",\"edge\":{\"@id\":\"E0\",\"lane\":[{\"@id\":\"E0_0\",\"vehicle\":[{\"@id\":\"car2\",\"@pos\":\"56.60\",\"@speed\":\"0.88\"},{\"@id\":\"car1\",\"@pos\":\"65.07\",\"@speed\":\"0.91\"}]},{\"@id\":\"E0_1\"},{\"@id\":\"E0_2\"}]}},{\"@time\":\"62.00\",\"edge\":{\"@id\":\"E0\",\"lane\":[{\"@id\":\"E0_0\",\"vehicle\":[{\"@id\":\"car2\",\"@pos\":\"57.33\",\"@speed\":\"0.73\"},{\"@id\":\"car1\",\"@pos\":\"66.02\",\"@speed\":\"0.95\"}]},{\"@id\":\"E0_1\"},{\"@id\":\"E0_2\"}]}},{\"@time\":\"63.00\",\"edge\":{\"@id\":\"E0\",\"lane\":[{\"@id\":\"E0_0\",\"vehicle\":[{\"@id\":\"car2\",\"@pos\":\"58.20\",\"@speed\":\"0.87\"},{\"@id\":\"car1\",\"@pos\":\"66.76\",\"@speed\":\"0.74\"}]},{\"@id\":\"E0_1\"},{\"@id\":\"E0_2\"}]}},{\"@time\":\"64.00\",\"edge\":{\"@id\":\"E0\",\"lane\":[{\"@id\":\"E0_0\",\"vehicle\":[{\"@id\":\"car2\",\"@pos\":\"58.92\",\"@speed\":\"0.72\"},{\"@id\":\"car1\",\"@pos\":\"67.54\",\"@speed\":\"0.77\"}]},{\"@id\":\"E0_1\"},{\"@id\":\"E0_2\"}]}},{\"@time\":\"65.00\",\"edge\":{\"@id\":\"E0\",\"lane\":[{\"@id\":\"E0_0\",\"vehicle\":[{\"@id\":\"car2\",\"@pos\":\"59.57\",\"@speed\":\"0.65\"},{\"@id\":\"car1\",\"@pos\":\"68.19\",\"@speed\":\"0.65\"}]},{\"@id\":\"E0_1\"},{\"@id\":\"E0_2\"}]}},{\"@time\":\"66.00\",\"edge\":{\"@id\":\"E0\",\"lane\":[{\"@id\":\"E0_0\",\"vehicle\":[{\"@id\":\"car2\",\"@pos\":\"60.22\",\"@speed\":\"0.65\"},{\"@id\":\"car1\",\"@pos\":\"68.88\",\"@speed\":\"0.69\"}]},{\"@id\":\"E0_1\"},{\"@id\":\"E0_2\"}]}},{\"@time\":\"67.00\",\"edge\":{\"@id\":\"E0\",\"lane\":[{\"@id\":\"E0_0\",\"vehicle\":[{\"@id\":\"car2\",\"@pos\":\"61.17\",\"@speed\":\"0.95\"},{\"@id\":\"car1\",\"@pos\":\"69.64\",\"@speed\":\"0.76\"}]},{\"@id\":\"E0_1\"},{\"@id\":\"E0_2\"}]}},{\"@time\":\"68.00\",\"edge\":{\"@id\":\"E0\",\"lane\":[{\"@id\":\"E0_0\",\"vehicle\":[{\"@id\":\"car2\",\"@pos\":\"61.84\",\"@speed\":\"0.67\"},{\"@id\":\"car1\",\"@pos\":\"70.60\",\"@speed\":\"0.96\"}]},{\"@id\":\"E0_1\"},{\"@id\":\"E0_2\"}]}},{\"@time\":\"69.00\",\"edge\":{\"@id\":\"E0\",\"lane\":[{\"@id\":\"E0_0\",\"vehicle\":[{\"@id\":\"car2\",\"@pos\":\"62.74\",\"@speed\":\"0.90\"},{\"@id\":\"car1\",\"@pos\":\"71.44\",\"@speed\":\"0.83\"}]},{\"@id\":\"E0_1\"},{\"@id\":\"E0_2\"}]}},{\"@time\":\"70.00\",\"edge\":{\"@id\":\"E0\",\"lane\":[{\"@id\":\"E0_0\",\"vehicle\":[{\"@id\":\"car2\",\"@pos\":\"63.61\",\"@speed\":\"0.88\"},{\"@id\":\"car1\",\"@pos\":\"72.32\",\"@speed\":\"0.89\"}]},{\"@id\":\"E0_1\"},{\"@id\":\"E0_2\"}]}},{\"@time\":\"71.00\",\"edge\":{\"@id\":\"E0\",\"lane\":[{\"@id\":\"E0_0\",\"vehicle\":[{\"@id\":\"car2\",\"@pos\":\"64.40\",\"@speed\":\"0.78\"},{\"@id\":\"car1\",\"@pos\":\"73.15\",\"@speed\":\"0.83\"}]},{\"@id\":\"E0_1\"},{\"@id\":\"E0_2\"}]}},{\"@time\":\"72.00\",\"edge\":{\"@id\":\"E0\",\"lane\":[{\"@id\":\"E0_0\",\"vehicle\":[{\"@id\":\"car2\",\"@pos\":\"65.39\",\"@speed\":\"0.99\"},{\"@id\":\"car1\",\"@pos\":\"73.91\",\"@speed\":\"0.76\"}]},{\"@id\":\"E0_1\"},{\"@id\":\"E0_2\"}]}},{\"@time\":\"73.00\",\"edge\":{\"@id\":\"E0\",\"lane\":[{\"@id\":\"E0_0\",\"vehicle\":[{\"@id\":\"car2\",\"@pos\":\"66.10\",\"@speed\":\"0.70\"},{\"@id\":\"car1\",\"@pos\":\"74.62\",\"@speed\":\"0.72\"}]},{\"@id\":\"E0_1\"},{\"@id\":\"E0_2\"}]}},{\"@time\":\"74.00\",\"edge\":{\"@id\":\"E0\",\"lane\":[{\"@id\":\"E0_0\",\"vehicle\":[{\"@id\":\"car2\",\"@pos\":\"66.94\",\"@speed\":\"0.85\"},{\"@id\":\"car1\",\"@pos\":\"75.41\",\"@speed\":\"0.79\"}]},{\"@id\":\"E0_1\"},{\"@id\":\"E0_2\"}]}},{\"@time\":\"75.00\",\"edge\":{\"@id\":\"E0\",\"lane\":[{\"@id\":\"E0_0\",\"vehicle\":[{\"@id\":\"car2\",\"@pos\":\"67.89\",\"@speed\":\"0.94\"},{\"@id\":\"car1\",\"@pos\":\"76.23\",\"@speed\":\"0.81\"}]},{\"@id\":\"E0_1\"},{\"@id\":\"E0_2\"}]}},{\"@time\":\"76.00\",\"edge\":{\"@id\":\"E0\",\"lane\":[{\"@id\":\"E0_0\",\"vehicle\":[{\"@id\":\"car2\",\"@pos\":\"68.72\",\"@speed\":\"0.84\"},{\"@id\":\"car1\",\"@pos\":\"76.90\",\"@speed\":\"0.68\"}]},{\"@id\":\"E0_1\"},{\"@id\":\"E0_2\"}]}},{\"@time\":\"77.00\",\"edge\":{\"@id\":\"E0\",\"lane\":[{\"@id\":\"E0_0\",\"vehicle\":[{\"@id\":\"car2\",\"@pos\":\"69.32\",\"@speed\":\"0.60\"},{\"@id\":\"car1\",\"@pos\":\"77.66\",\"@speed\":\"0.75\"}]},{\"@id\":\"E0_1\"},{\"@id\":\"E0_2\"}]}},{\"@time\":\"78.00\",\"edge\":{\"@id\":\"E0\",\"lane\":[{\"@id\":\"E0_0\",\"vehicle\":[{\"@id\":\"car2\",\"@pos\":\"70.03\",\"@speed\":\"0.71\"},{\"@id\":\"car1\",\"@pos\":\"78.42\",\"@speed\":\"0.77\"}]},{\"@id\":\"E0_1\"},{\"@id\":\"E0_2\"}]}},{\"@time\":\"79.00\",\"edge\":{\"@id\":\"E0\",\"lane\":[{\"@id\":\"E0_0\",\"vehicle\":[{\"@id\":\"car2\",\"@pos\":\"70.83\",\"@speed\":\"0.80\"},{\"@id\":\"car1\",\"@pos\":\"79.13\",\"@speed\":\"0.71\"}]},{\"@id\":\"E0_1\"},{\"@id\":\"E0_2\"}]}},{\"@time\":\"80.00\",\"edge\":{\"@id\":\"E0\",\"lane\":[{\"@id\":\"E0_0\",\"vehicle\":[{\"@id\":\"car2\",\"@pos\":\"71.45\",\"@speed\":\"0.62\"},{\"@id\":\"car1\",\"@pos\":\"80.05\",\"@speed\":\"0.92\"}]},{\"@id\":\"E0_1\"},{\"@id\":\"E0_2\"}]}},{\"@time\":\"81.00\",\"edge\":{\"@id\":\"E0\",\"lane\":[{\"@id\":\"E0_0\",\"vehicle\":[{\"@id\":\"car2\",\"@pos\":\"72.32\",\"@speed\":\"0.87\"},{\"@id\":\"car1\",\"@pos\":\"80.93\",\"@speed\":\"0.88\"}]},{\"@id\":\"E0_1\"},{\"@id\":\"E0_2\"}]}},{\"@time\":\"82.00\",\"edge\":{\"@id\":\"E0\",\"lane\":[{\"@id\":\"E0_0\",\"vehicle\":[{\"@id\":\"car2\",\"@pos\":\"73.22\",\"@speed\":\"0.90\"},{\"@id\":\"car1\",\"@pos\":\"81.88\",\"@speed\":\"0.95\"}]},{\"@id\":\"E0_1\"},{\"@id\":\"E0_2\"}]}},{\"@time\":\"83.00\",\"edge\":{\"@id\":\"E0\",\"lane\":[{\"@id\":\"E0_0\",\"vehicle\":[{\"@id\":\"car2\",\"@pos\":\"74.16\",\"@speed\":\"0.94\"},{\"@id\":\"car1\",\"@pos\":\"82.63\",\"@speed\":\"0.75\"}]},{\"@id\":\"E0_1\"},{\"@id\":\"E0_2\"}]}},{\"@time\":\"84.00\",\"edge\":{\"@id\":\"E0\",\"lane\":[{\"@id\":\"E0_0\",\"vehicle\":[{\"@id\":\"car2\",\"@pos\":\"74.80\",\"@speed\":\"0.64\"},{\"@id\":\"car1\",\"@pos\":\"83.54\",\"@speed\":\"0.91\"}]},{\"@id\":\"E0_1\"},{\"@id\":\"E0_2\"}]}},{\"@time\":\"85.00\",\"edge\":{\"@id\":\"E0\",\"lane\":[{\"@id\":\"E0_0\",\"vehicle\":[{\"@id\":\"car2\",\"@pos\":\"75.58\",\"@speed\":\"0.78\"},{\"@id\":\"car1\",\"@pos\":\"84.36\",\"@speed\":\"0.81\"}]},{\"@id\":\"E0_1\"},{\"@id\":\"E0_2\"}]}},{\"@time\":\"86.00\",\"edge\":{\"@id\":\"E0\",\"lane\":[{\"@id\":\"E0_0\",\"vehicle\":[{\"@id\":\"car2\",\"@pos\":\"76.43\",\"@speed\":\"0.85\"},{\"@id\":\"car1\",\"@pos\":\"85.28\",\"@speed\":\"0.93\"}]},{\"@id\":\"E0_1\"},{\"@id\":\"E0_2\"}]}},{\"@time\":\"87.00\",\"edge\":{\"@id\":\"E0\",\"lane\":[{\"@id\":\"E0_0\",\"vehicle\":[{\"@id\":\"car2\",\"@pos\":\"77.05\",\"@speed\":\"0.61\"},{\"@id\":\"car1\",\"@pos\":\"86.08\",\"@speed\":\"0.80\"}]},{\"@id\":\"E0_1\"},{\"@id\":\"E0_2\"}]}},{\"@time\":\"88.00\",\"edge\":{\"@id\":\"E0\",\"lane\":[{\"@id\":\"E0_0\",\"vehicle\":[{\"@id\":\"car2\",\"@pos\":\"77.81\",\"@speed\":\"0.76\"},{\"@id\":\"car1\",\"@pos\":\"86.87\",\"@speed\":\"0.79\"}]},{\"@id\":\"E0_1\"},{\"@id\":\"E0_2\"}]}},{\"@time\":\"89.00\",\"edge\":{\"@id\":\"E0\",\"lane\":[{\"@id\":\"E0_0\",\"vehicle\":[{\"@id\":\"car2\",\"@pos\":\"78.56\",\"@speed\":\"0.75\"},{\"@id\":\"car1\",\"@pos\":\"87.81\",\"@speed\":\"0.93\"}]},{\"@id\":\"E0_1\"},{\"@id\":\"E0_2\"}]}},{\"@time\":\"90.00\",\"edge\":{\"@id\":\"E0\",\"lane\":[{\"@id\":\"E0_0\",\"vehicle\":[{\"@id\":\"car2\",\"@pos\":\"79.17\",\"@speed\":\"0.61\"},{\"@id\":\"car1\",\"@pos\":\"88.56\",\"@speed\":\"0.75\"}]},{\"@id\":\"E0_1\"},{\"@id\":\"E0_2\"}]}},{\"@time\":\"91.00\",\"edge\":{\"@id\":\"E0\",\"lane\":[{\"@id\":\"E0_0\",\"vehicle\":[{\"@id\":\"car2\",\"@pos\":\"79.89\",\"@speed\":\"0.72\"},{\"@id\":\"car1\",\"@pos\":\"89.37\",\"@speed\":\"0.81\"}]},{\"@id\":\"E0_1\"},{\"@id\":\"E0_2\"}]}},{\"@time\":\"92.00\",\"edge\":{\"@id\":\"E0\",\"lane\":[{\"@id\":\"E0_0\",\"vehicle\":[{\"@id\":\"car2\",\"@pos\":\"80.58\",\"@speed\":\"0.69\"},{\"@id\":\"car1\",\"@pos\":\"90.21\",\"@speed\":\"0.84\"}]},{\"@id\":\"E0_1\"},{\"@id\":\"E0_2\"}]}},{\"@time\":\"93.00\",\"edge\":{\"@id\":\"E0\",\"lane\":[{\"@id\":\"E0_0\",\"vehicle\":[{\"@id\":\"car2\",\"@pos\":\"81.25\",\"@speed\":\"0.67\"},{\"@id\":\"car1\",\"@pos\":\"91.02\",\"@speed\":\"0.80\"}]},{\"@id\":\"E0_1\"},{\"@id\":\"E0_2\"}]}},{\"@time\":\"94.00\",\"edge\":{\"@id\":\"E0\",\"lane\":[{\"@id\":\"E0_0\",\"vehicle\":[{\"@id\":\"car2\",\"@pos\":\"82.01\",\"@speed\":\"0.75\"},{\"@id\":\"car1\",\"@pos\":\"91.79\",\"@speed\":\"0.77\"}]},{\"@id\":\"E0_1\"},{\"@id\":\"E0_2\"}]}},{\"@time\":\"95.00\",\"edge\":{\"@id\":\"E0\",\"lane\":[{\"@id\":\"E0_0\",\"vehicle\":[{\"@id\":\"car2\",\"@pos\":\"82.96\",\"@speed\":\"0.95\"},{\"@id\":\"car1\",\"@pos\":\"92.40\",\"@speed\":\"0.62\"}]},{\"@id\":\"E0_1\"},{\"@id\":\"E0_2\"}]}},{\"@time\":\"96.00\",\"edge\":{\"@id\":\"E0\",\"lane\":[{\"@id\":\"E0_0\",\"vehicle\":[{\"@id\":\"car2\",\"@pos\":\"83.75\",\"@speed\":\"0.79\"},{\"@id\":\"car1\",\"@pos\":\"93.01\",\"@speed\":\"0.61\"}]},{\"@id\":\"E0_1\"},{\"@id\":\"E0_2\"}]}},{\"@time\":\"97.00\",\"edge\":{\"@id\":\"E0\",\"lane\":[{\"@id\":\"E0_0\",\"vehicle\":[{\"@id\":\"car2\",\"@pos\":\"84.45\",\"@speed\":\"0.70\"},{\"@id\":\"car1\",\"@pos\":\"93.84\",\"@speed\":\"0.83\"}]},{\"@id\":\"E0_1\"},{\"@id\":\"E0_2\"}]}},{\"@time\":\"98.00\",\"edge\":{\"@id\":\"E0\",\"lane\":[{\"@id\":\"E0_0\",\"vehicle\":[{\"@id\":\"car2\",\"@pos\":\"85.44\",\"@speed\":\"0.99\"},{\"@id\":\"car1\",\"@pos\":\"94.53\",\"@speed\":\"0.69\"}]},{\"@id\":\"E0_1\"},{\"@id\":\"E0_2\"}]}},{\"@time\":\"99.00\",\"edge\":{\"@id\":\"E0\",\"lane\":[{\"@id\":\"E0_0\",\"vehicle\":[{\"@id\":\"car2\",\"@pos\":\"86.42\",\"@speed\":\"0.98\"},{\"@id\":\"car1\",\"@pos\":\"95.20\",\"@speed\":\"0.67\"}]},{\"@id\":\"E0_1\"},{\"@id\":\"E0_2\"}]}}]}}}\n"
     ]
    }
   ],
   "source": [
    "dataFrame = pdx.read_xml(\"dump.xml\")\n",
    "print(dataFrame.to_json())"
   ]
  },
  {
   "cell_type": "code",
   "execution_count": null,
   "id": "519d5748",
   "metadata": {},
   "outputs": [],
   "source": [
    "def parseXmlToJson(xml):\n",
    "  response = {}\n",
    "\n",
    "  for child in list(xml):\n",
    "    if len(list(child)) > 0:\n",
    "      response[child.tag] = parseXmlToJson(child)\n",
    "    else:\n",
    "      response[child.tag] = child.text or ''\n",
    "\n",
    "    # one-liner equivalent\n",
    "    # response[child.tag] = parseXmlToJson(child) if len(list(child)) > 0 else child.text or ''\n",
    "\n",
    "  return response"
   ]
  },
  {
   "cell_type": "code",
   "execution_count": null,
   "id": "c13db5cd",
   "metadata": {},
   "outputs": [],
   "source": [
    "xml    = et.parse('dump.xml')\n",
    "print(type(xml))\n",
    "xmlroot = xml.getroot()\n",
    "print(type(xmlroot))\n",
    "parsed = parseXmlToJson(xmlroot)\n",
    "print(parsed)\n",
    "\n",
    "\n"
   ]
  },
  {
   "cell_type": "code",
   "execution_count": null,
   "id": "bdc1a862",
   "metadata": {},
   "outputs": [],
   "source": [
    "etree = et.parse('dump.xml')"
   ]
  },
  {
   "cell_type": "code",
   "execution_count": null,
   "id": "55a69d8d",
   "metadata": {},
   "outputs": [],
   "source": [
    "etree"
   ]
  },
  {
   "cell_type": "code",
   "execution_count": null,
   "id": "5e0ac0f3",
   "metadata": {},
   "outputs": [],
   "source": [
    "eroot = etree.getroot()"
   ]
  },
  {
   "cell_type": "code",
   "execution_count": null,
   "id": "cef73baa",
   "metadata": {},
   "outputs": [],
   "source": [
    "eroot"
   ]
  },
  {
   "cell_type": "code",
   "execution_count": null,
   "id": "adc646d6",
   "metadata": {},
   "outputs": [],
   "source": [
    "eroot.tag"
   ]
  },
  {
   "cell_type": "code",
   "execution_count": null,
   "id": "1decd6ac",
   "metadata": {},
   "outputs": [],
   "source": [
    "temp = eroot.find(\"netstate\")\n",
    "temp"
   ]
  },
  {
   "cell_type": "code",
   "execution_count": null,
   "id": "f3e73139",
   "metadata": {},
   "outputs": [],
   "source": [
    "def parse_xml(xml):\n",
    "    attr = xml.attrib\n",
    "    for elem in xml.findall('netstate'):\n",
    "        xml_data = attr.copy()\n",
    "        xml_data.update(elem.attrib)\n",
    "        xml_data['time']"
   ]
  },
  {
   "cell_type": "code",
   "execution_count": null,
   "id": "13480a35",
   "metadata": {},
   "outputs": [],
   "source": [
    "data = parse_xml(eroot)\n"
   ]
  },
  {
   "cell_type": "code",
   "execution_count": null,
   "id": "dda146ac",
   "metadata": {},
   "outputs": [],
   "source": [
    "netstate\n",
    "    timestep              >> time\n",
    "        edge              >> edge_id\n",
    "            lane          >> lane_id  \n",
    "                vehicle   >> vehicle_id, vehicle_pos, vehicle_speed"
   ]
  }
 ],
 "metadata": {
  "kernelspec": {
   "display_name": "Python 3 (ipykernel)",
   "language": "python",
   "name": "python3"
  },
  "language_info": {
   "codemirror_mode": {
    "name": "ipython",
    "version": 3
   },
   "file_extension": ".py",
   "mimetype": "text/x-python",
   "name": "python",
   "nbconvert_exporter": "python",
   "pygments_lexer": "ipython3",
   "version": "3.10.4"
  }
 },
 "nbformat": 4,
 "nbformat_minor": 5
}
